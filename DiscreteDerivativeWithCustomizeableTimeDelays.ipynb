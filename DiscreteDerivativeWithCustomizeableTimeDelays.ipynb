{
  "nbformat": 4,
  "nbformat_minor": 0,
  "metadata": {
    "colab": {
      "name": "DiscreteDerivativeWithCustomizeableTimeDelays.ipynb",
      "provenance": [],
      "collapsed_sections": [],
      "authorship_tag": "ABX9TyPhWAT597a9S9GhP3kVHplb",
      "include_colab_link": true
    },
    "kernelspec": {
      "name": "python3",
      "display_name": "Python 3"
    },
    "language_info": {
      "name": "python"
    }
  },
  "cells": [
    {
      "cell_type": "markdown",
      "metadata": {
        "id": "view-in-github",
        "colab_type": "text"
      },
      "source": [
        "<a href=\"https://colab.research.google.com/github/lyapunovExponentGood/TRIPODS2022/blob/main/DiscreteDerivativeWithCustomizeableTimeDelays.ipynb\" target=\"_parent\"><img src=\"https://colab.research.google.com/assets/colab-badge.svg\" alt=\"Open In Colab\"/></a>"
      ]
    },
    {
      "cell_type": "markdown",
      "source": [
        "The following code contains a method, DerivativeCalc, for calculating the nth discrete derivative of a time series, where the time delay $\\tau$ (the difference in indicies between terms being differenced) can be specified.  \n",
        "\n",
        "These methods were written with improving time complexity in mind- anywhere where I could figure out how to replace a for loop with a numpy operation I did so. Because numpy is built on complex, finely optimized linear algebra libraries, this substitution should reduce time complexity. "
      ],
      "metadata": {
        "id": "Z7KtcC8yxEuk"
      }
    },
    {
      "cell_type": "code",
      "execution_count": 106,
      "metadata": {
        "id": "V1LxTEye2HYK"
      },
      "outputs": [],
      "source": [
        "import math as mth\n",
        "import numpy as np"
      ]
    },
    {
      "cell_type": "code",
      "source": [
        "#DerivativeCalc takes three parameters as inputs:\n",
        "#array is the time series being differenced\n",
        "#n is the number of derivatives, or differences that will be taken\n",
        "#and tau being the time delay, or the difference between the indicies of terms being differenced\n",
        "\n",
        "#it outputs an array containing the nth discrete derivative of the array with the provided time delay \n",
        "def DerivativeCalc(array,n,tau): \n",
        "  d = n + 1\n",
        "  [embedding, d, tau] = TimeEmbedding(array,d,tau)\n",
        "\n",
        "  binomialCoefs = np.zeros((d,1))\n",
        "  coefVector = np.zeros((d,1))\n",
        "\n",
        "  binomialCoefs[0:d,0] = BinomialCoefs(n)\n",
        "\n",
        "  index = np.arange(d)\n",
        "  sign = np.power(-1, index)\n",
        "  coefVector[0:d,0] = np.multiply(binomialCoefs[0:d,0], sign) #the coefficents of d repeated differences of a sequence are provably  +/- binomial coefficents \n",
        "\n",
        "  derivativeList = np.dot(embedding, coefVector)\n",
        "\n",
        "  return(derivativeList)\n"
      ],
      "metadata": {
        "id": "T4pUaIzxoz_E"
      },
      "execution_count": 107,
      "outputs": []
    },
    {
      "cell_type": "code",
      "source": [
        "#TimeEmbedding takes a time series array, positive integer d, and positive integer tau\n",
        "#and returns a nondisjoint delay time embedding of a time series with embedding dimension d and time delay tau\n",
        "\n",
        "#Specifically, given a time series array [x_1, ... x_n] \n",
        "#it returns a n-tau*(d-1) x d matrix made of the d dimensional row vectors r_i = [x_i, x_{i+tau}, ..., x_{i+(d-1)*tau}] \n",
        "#the vector of d time series elements, in order, that are spaced tau time steps apart\n",
        "\n",
        "def TimeEmbedding(array, d, tau): \n",
        "  n = len(array)\n",
        "  m = n - tau*(d-1)\n",
        "  #number of embeddings is the sequence length minus dimensionality-1 (d, points per embedding)\n",
        "  #times the number of possible starting points for a unique embedding (tau, the time delay)\n",
        "\n",
        "  [Rows, Cols] = np.indices((m,d))\n",
        "\n",
        "  Index = Rows + tau*Cols\n",
        "\n",
        "  Embedding = array[Index]\n",
        "  embedding = Embedding[0:m, 0:d, 0]\n",
        "\n",
        "  return [embedding, d, tau]"
      ],
      "metadata": {
        "id": "5g4zLawIyjqU"
      },
      "execution_count": 108,
      "outputs": []
    },
    {
      "cell_type": "code",
      "source": [
        "#BinomialCoefs takes a given positive integer n returns a vector of the binomial coefficents of n\n",
        "def BinomialCoefs(n): \n",
        "  nArray = np.zeros(n+1) + n\n",
        "  kArray = np.arange(n+1)\n",
        "\n",
        "  nFactorial = Factorial(nArray)\n",
        "  kFactorial = Factorial(kArray)\n",
        "  nMinusKFactorial = np.flip(kFactorial)\n",
        "  \n",
        "  binomialCoefs = np.divide(nFactorial, np.multiply(nMinusKFactorial, kFactorial))\n",
        "\n",
        "  return binomialCoefs"
      ],
      "metadata": {
        "id": "q_lRjGlqh7MK"
      },
      "execution_count": 109,
      "outputs": []
    },
    {
      "cell_type": "code",
      "source": [
        "#Factorial takes an array of positive integers as an input and returns elementwise factorial of the elements in that array\n",
        "def Factorial(kArray): \n",
        "  kFactorial = kArray\n",
        "  index = np.where(kFactorial<1) \n",
        "  kFactorial[index] = 1 \n",
        "  return(FactorialRecurse(kArray, kFactorial))"
      ],
      "metadata": {
        "id": "S8oGXFQpgymb"
      },
      "execution_count": 110,
      "outputs": []
    },
    {
      "cell_type": "code",
      "source": [
        "def FactorialRecurse(kArray, kFactorial):\n",
        "  \n",
        "  if(np.all(kArray <= 1)):\n",
        "    return(kFactorial)\n",
        "  else:\n",
        "    kMinusOne = kArray - 1\n",
        "\n",
        "    index = np.where(kMinusOne<1) \n",
        "    kMinusOne[index] = 1 #conserve all values that have already been factorialed \n",
        "\n",
        "    kFactorial = np.multiply(kFactorial, kMinusOne)\n",
        "    \n",
        "    #coefArray =\n",
        "    return FactorialRecurse(kMinusOne, kFactorial)"
      ],
      "metadata": {
        "id": "ybnqT7YHWbVp"
      },
      "execution_count": 111,
      "outputs": []
    },
    {
      "cell_type": "markdown",
      "source": [
        "**TESTING**: "
      ],
      "metadata": {
        "id": "gpcBmGkb2eNc"
      }
    },
    {
      "cell_type": "code",
      "source": [
        "#simple test functions one can play with at their leisure\n",
        "\n",
        "n=10\n",
        "\n",
        "linear = np.zeros((n,1))\n",
        "for i in range(0,n):\n",
        "  linear[i] = i\n",
        "\n",
        "quadratic = np.zeros((n,1))\n",
        "for i in range(0,n):\n",
        "  quadratic[i] = i**2\n",
        "\n",
        "cubic = np.zeros((n,1))\n",
        "for i in range(0,n):\n",
        "  cubic[i] = i**3\n",
        "\n",
        "#a(n) = cos(pi/2 *n)\n",
        "cosine = np.zeros((1,20))\n",
        "for i in range (0,20,2):\n",
        "  cosine[0,i] = (-1)**(i/2) # discrete cos(n*pi/2)\n",
        "\n",
        "cosine = np.transpose(cosine)\n",
        "\n",
        "#a(n) = sin(pi/2 + n*pi)\n",
        "sine = np.zeros((1,20))\n",
        "for i in range (0,20):\n",
        "  sine[0,i] = (-1)**(i) \n",
        "\n",
        "sine = np.transpose(sine)"
      ],
      "metadata": {
        "id": "Pw6r-Jbu2Xru"
      },
      "execution_count": 112,
      "outputs": []
    },
    {
      "cell_type": "code",
      "source": [
        "n=1\n",
        "tau=1\n",
        "d1 = DerivativeCalc(quadratic, n, tau)\n",
        "print(d1)"
      ],
      "metadata": {
        "colab": {
          "base_uri": "https://localhost:8080/"
        },
        "id": "mkVhjtmKiZ-U",
        "outputId": "5872dc2c-4505-4215-818a-13c37e351482"
      },
      "execution_count": 114,
      "outputs": [
        {
          "output_type": "stream",
          "name": "stdout",
          "text": [
            "[[ -1.]\n",
            " [ -3.]\n",
            " [ -5.]\n",
            " [ -7.]\n",
            " [ -9.]\n",
            " [-11.]\n",
            " [-13.]\n",
            " [-15.]\n",
            " [-17.]]\n"
          ]
        }
      ]
    },
    {
      "cell_type": "markdown",
      "source": [
        "**TESTING WITH SINUSOIDS:**"
      ],
      "metadata": {
        "id": "0naAmzjBgd8p"
      }
    },
    {
      "cell_type": "code",
      "source": [
        "#odd time delay test:\n",
        "tau = 3\n",
        "[embeddingOdd, d, tau] = TimeEmbedding(sine,2,tau)\n",
        "print(embeddingOdd)"
      ],
      "metadata": {
        "colab": {
          "base_uri": "https://localhost:8080/"
        },
        "id": "3u4mpNNigidC",
        "outputId": "4e80f74e-8196-4ae6-a0c4-d817948d3d4f"
      },
      "execution_count": 115,
      "outputs": [
        {
          "output_type": "stream",
          "name": "stdout",
          "text": [
            "[[ 1. -1.]\n",
            " [-1.  1.]\n",
            " [ 1. -1.]\n",
            " [-1.  1.]\n",
            " [ 1. -1.]\n",
            " [-1.  1.]\n",
            " [ 1. -1.]\n",
            " [-1.  1.]\n",
            " [ 1. -1.]\n",
            " [-1.  1.]\n",
            " [ 1. -1.]\n",
            " [-1.  1.]\n",
            " [ 1. -1.]\n",
            " [-1.  1.]\n",
            " [ 1. -1.]\n",
            " [-1.  1.]\n",
            " [ 1. -1.]]\n"
          ]
        }
      ]
    },
    {
      "cell_type": "code",
      "source": [
        "#even time delay test:\n",
        "tau = 4\n",
        "[embeddingEven, d, tau] = TimeEmbedding(sine,2,tau)\n",
        "print(embeddingEven)"
      ],
      "metadata": {
        "colab": {
          "base_uri": "https://localhost:8080/"
        },
        "id": "XDikB0422wz9",
        "outputId": "69cc427c-06f6-4b08-acc5-e0aaa0fe4ecb"
      },
      "execution_count": 117,
      "outputs": [
        {
          "output_type": "stream",
          "name": "stdout",
          "text": [
            "[[ 1.  1.]\n",
            " [-1. -1.]\n",
            " [ 1.  1.]\n",
            " [-1. -1.]\n",
            " [ 1.  1.]\n",
            " [-1. -1.]\n",
            " [ 1.  1.]\n",
            " [-1. -1.]\n",
            " [ 1.  1.]\n",
            " [-1. -1.]\n",
            " [ 1.  1.]\n",
            " [-1. -1.]\n",
            " [ 1.  1.]\n",
            " [-1. -1.]\n",
            " [ 1.  1.]\n",
            " [-1. -1.]]\n"
          ]
        }
      ]
    },
    {
      "cell_type": "code",
      "source": [
        "dOdd = DerivativeCalc(sine,1,3)\n",
        "dEven = DerivativeCalc(sine,1,4)\n",
        "print(dOdd)\n",
        "print(dEven)"
      ],
      "metadata": {
        "colab": {
          "base_uri": "https://localhost:8080/"
        },
        "id": "htJ8LCRf2uHm",
        "outputId": "33121d73-ccfb-4781-d4d1-4399d721776b"
      },
      "execution_count": 120,
      "outputs": [
        {
          "output_type": "stream",
          "name": "stdout",
          "text": [
            "[[ 2.]\n",
            " [-2.]\n",
            " [ 2.]\n",
            " [-2.]\n",
            " [ 2.]\n",
            " [-2.]\n",
            " [ 2.]\n",
            " [-2.]\n",
            " [ 2.]\n",
            " [-2.]\n",
            " [ 2.]\n",
            " [-2.]\n",
            " [ 2.]\n",
            " [-2.]\n",
            " [ 2.]\n",
            " [-2.]\n",
            " [ 2.]]\n",
            "[[0.]\n",
            " [0.]\n",
            " [0.]\n",
            " [0.]\n",
            " [0.]\n",
            " [0.]\n",
            " [0.]\n",
            " [0.]\n",
            " [0.]\n",
            " [0.]\n",
            " [0.]\n",
            " [0.]\n",
            " [0.]\n",
            " [0.]\n",
            " [0.]\n",
            " [0.]]\n"
          ]
        }
      ]
    },
    {
      "cell_type": "code",
      "source": [
        "#makes sense: the nth derivative of sin for odd time delay tau is +\\- 2^n \n",
        "#since each derivative essentially amounts to the binomial coefficents being added to each other n times, multiplied by 1 or negative 1"
      ],
      "metadata": {
        "id": "Yx70xUIeelKZ"
      },
      "execution_count": null,
      "outputs": []
    },
    {
      "cell_type": "code",
      "source": [
        "#however, the nth derivatives for even time delay are zero as the time delay is equal to the period of the discrete sinuisoid "
      ],
      "metadata": {
        "id": "VB348ovbhO2j"
      },
      "execution_count": null,
      "outputs": []
    }
  ]
}