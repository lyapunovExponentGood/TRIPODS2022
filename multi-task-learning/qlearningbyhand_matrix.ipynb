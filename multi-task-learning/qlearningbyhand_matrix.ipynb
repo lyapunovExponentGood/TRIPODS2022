{
 "cells": [
  {
   "cell_type": "markdown",
   "metadata": {},
   "source": [
    "# Imports "
   ]
  },
  {
   "cell_type": "code",
   "execution_count": 1,
   "metadata": {},
   "outputs": [],
   "source": [
    "import pandas as pd \n",
    "import numpy as np \n",
    "import itertools\n",
    "import random\n",
    "from random import  uniform\n",
    "from copy import deepcopy"
   ]
  },
  {
   "cell_type": "markdown",
   "metadata": {},
   "source": [
    "# Helpful functions"
   ]
  },
  {
   "cell_type": "code",
   "execution_count": 2,
   "metadata": {},
   "outputs": [],
   "source": [
    "def cartesian(listoflists):\n",
    "    \"\"\"\n",
    "    listoflists - list of lists of real numbers \n",
    "    returns the cartesian product of those lists as a list of tuples \n",
    "    \"\"\"\n",
    "    return list(itertools.product(*listoflists))\n",
    "\n",
    "def canonical(i,n):\n",
    "    \"\"\"\n",
    "    i - positive integer between 0 and n-1 \n",
    "    n - positive integer \n",
    "    returns vectors of length n with +1 in the i'th slot\n",
    "    \"\"\"\n",
    "    \n",
    "    a=[0 for i in range(n)]\n",
    "    a[i]=1\n",
    "    return a\n",
    "\n",
    "def anti_canonical(i,n):\n",
    "    \"\"\"\n",
    "    i - positive integer between 0 and n-1 \n",
    "    n - positive integer \n",
    "    returns vectors of length n with -1 in the i'th slot\n",
    "    \"\"\"\n",
    "    \n",
    "    a=[0 for i in range(n)]\n",
    "    a[i]=-1\n",
    "    return a\n",
    "\n",
    "def canonical_list(n):\n",
    "    \"\"\"\n",
    "    n - positive integer \n",
    "    returns the list of canonical vectors from above \n",
    "    \"\"\"\n",
    "    return [canonical(i,n) for i in range(n)]\n",
    "\n",
    "def anti_canonical_list(n):\n",
    "    \"\"\"\n",
    "    n - positive integers \n",
    "    returns the list of anti-canonical vectors from above \n",
    "    \"\"\"\n",
    "    return [anti_canonical(i,n) for i in range(n)]\n",
    "\n"
   ]
  },
  {
   "cell_type": "markdown",
   "metadata": {},
   "source": [
    "# Diagnostics"
   ]
  },
  {
   "cell_type": "code",
   "execution_count": 3,
   "metadata": {},
   "outputs": [],
   "source": [
    "def Qpath(g,start,Q,P,niter,output=False):\n",
    "    \"\"\"\n",
    "    g - grid object \n",
    "    start - starting point \n",
    "    Q - Q-Table \n",
    "    P - grid function \n",
    "    niter - maximum number of iterations/moves is performed by the \n",
    "            function until it reaches the maximum. \n",
    "    TODO: ADD a check for cycle to exit.\n",
    "    \n",
    "    returns a path that strictly follows the q-table.\n",
    "    \"\"\"\n",
    "    point=start\n",
    "    Path=[]\n",
    "    for i in range(niter):\n",
    "        \n",
    "        QValue=np.max(Q[np.ravel_multi_index(tuple(point),tuple(g.range_list))])\n",
    "        if QValue>=0:\n",
    "            direction=g.moves[np.argmax(Q[np.ravel_multi_index(tuple(point),tuple(g.range_list))])]\n",
    "            \n",
    "            nextpoint=tuple(g.limit_moves(np.array([point[i] + direction[i] for i in range(len(start))])))\n",
    "            if output:\n",
    "                print('From ',point,' to ',nextpoint)\n",
    "                Mat=deepcopy(P)\n",
    "                CMat=np.array(Mat, dtype=str)\n",
    "                CMat[point]='@'\n",
    "                CMat[nextpoint]='*'\n",
    "                print(CMat)\n",
    "            Path.append(point)\n",
    "            point=nextpoint\n",
    "        \n",
    "        else:\n",
    "            if output:\n",
    "                print('At point ',point,' all the q-values are negative')\n",
    "            Path.append(point)\n",
    "            break\n",
    "        \n",
    "    return point, Path, len(Path)\n",
    "\n",
    "def QTableTopology(grid_obj,P,QTable,gL,dim):\n",
    "    \"\"\"\n",
    "    grid_obj - grid object \n",
    "    P - objective function (we also call it grid function)\n",
    "    gL - grid length \n",
    "    dim - dimension \n",
    "    QTable - Q-Table \n",
    "    \n",
    "    return a matrix of topology or partition on the grid in the following sense. For every point \n",
    "    of the grid as starting point of a path it finds the endpoint. \n",
    "    \"\"\"\n",
    "    T=np.array([np.NaN for i in range(gL**dim)]).reshape(tuple([gL for i in range(dim)]))\n",
    "    MarkedT=np.array([0 for i in range(gL**dim)]).reshape(tuple([gL for i in range(dim)]))\n",
    "    point=np.unravel_index(np.argmin(MarkedT), tuple([gL for i in range(dim)]))\n",
    "    \n",
    "    for index in range(gL**dim):\n",
    "        point=np.unravel_index(index, tuple([gL for i in range(dim)]))\n",
    "        if MarkedT[point]==0:\n",
    "            end_point, Path, path_length = Qpath(grid_obj,point,QTable,P,gL**dim)\n",
    "            for state in Path:\n",
    "                T[state]=P[end_point]\n",
    "                MarkedT[state]=1\n",
    "    \n",
    "    return T"
   ]
  },
  {
   "cell_type": "markdown",
   "metadata": {},
   "source": [
    "# Creating the grid class and the associated methods "
   ]
  },
  {
   "cell_type": "code",
   "execution_count": 4,
   "metadata": {},
   "outputs": [],
   "source": [
    "class grid:\n",
    "    def __init__(self, range_list): # tested \n",
    "        self.range_list=range_list\n",
    "        self.moves=self.movement()\n",
    "        self.dim=self.dimension()\n",
    "        \n",
    "    def dimension(self): # tested\n",
    "        \"\"\"\n",
    "        returns the dimension of the grid \n",
    "        \"\"\"\n",
    "     \n",
    "        return len(self.range_list)\n",
    "    \n",
    "    def coordinates(self): # tested \n",
    "        \"\"\"\n",
    "        returns the coordinates of the grid as tuples \n",
    "        \"\"\"\n",
    "        return cartesian([[i for i in range(x)] for x in self.range_list]) \n",
    "    \n",
    "    def movement(self): # tested \n",
    "        \"\"\"\n",
    "        returns all the possible movement (unit) vectors allowable in the grid\n",
    "        \"\"\"\n",
    "        A=canonical_list(self.dimension())+anti_canonical_list(self.dimension())\n",
    "        B=[tuple(x) for x in A]\n",
    "        return B\n",
    "\n",
    "    \n",
    "    def movement_size(self): # tested \n",
    "        \"\"\"\n",
    "        returns the size of the set of movement vectors\n",
    "        \"\"\"\n",
    "        A=canonical_list(self.dimension())+anti_canonical_list(self.dimension())\n",
    "        B=[tuple(x) for x in A]\n",
    "        return len(B)\n",
    "    \n",
    "\n",
    "    \n",
    "    def adjacent(self,point): # tested\n",
    "        \"\"\"\n",
    "        point - tuple corresponding to a point in the grid \n",
    "        returns points in the grid where the Learning Agent is allowed to travel \n",
    "        in one step without wrapping around \n",
    "        \"\"\"\n",
    "        A=[tuple(np.array(point)+np.array(x)) for x in canonical_list(self.dimension())]\n",
    "        B=[tuple(np.array(point)-np.array(x)) for x in canonical_list(self.dimension())]\n",
    "        C=A+B\n",
    "        \n",
    "        def bad(i):\n",
    "            return {x for x in C if x[i]==self.range_list[i]}.union({x for x in C if x[i]==-1})\n",
    "        \n",
    "        L=[]\n",
    "        for i in range(self.dimension()):\n",
    "            L=L+list(bad(i))\n",
    "            \n",
    "        C=[x for x in C if x not in L]\n",
    "        \n",
    "        return C\n",
    "    \n",
    "    def limit_moves(self, coord):\n",
    "        \"\"\"\n",
    "        coord - coordinates of the point point in the d-dimensional space as numpy array;\n",
    "        it is used to ensure that the Learning Agent stays within the grid while making a move (step) \n",
    "        if the Learning Agent is at point x on the boundary of the grid and chooses direction v\n",
    "        towadrds the boundary that would make him cross it, then this method will prevent this from happening. \n",
    "        \"\"\"\n",
    "        for i in range(len(coord)):\n",
    "            coord[i] = min(coord[i], self.range_list[i] - 1)\n",
    "            coord[i] = max(coord[i], 0)\n",
    "        return coord\n",
    "    \n",
    "    def adj(self,point):\n",
    "        \"\"\"\n",
    "        point - tuple corresponding to a point in the grid \n",
    "        returns points in the grid where the Learning Agent is allowed to travel \n",
    "        in one step without wrapping around excluding the point itself\n",
    "        \"\"\"\n",
    "        adj_lst=[]\n",
    "        for v in self.movement():\n",
    "            q=tuple(self.limit_moves(np.array(point)+np.array(v)))\n",
    "            if q != point:\n",
    "                adj_lst.append(q)\n",
    "        return adj_lst\n",
    "\n",
    "    \n",
    "    def Q_update(self,Q,P,g,start,end,t): # tested \n",
    "        \"\"\"\n",
    "        Q - q-table \n",
    "        P - function that maps the grid to real numbers in the form of list of these numbers \n",
    "        g - discount rate \n",
    "        start - starting point \n",
    "        end - ending point \n",
    "        t - learning rate \n",
    "        returns an updated q-table \n",
    "        \"\"\"\n",
    "        start_0=np.ravel_multi_index(tuple(start),tuple(self.range_list))\n",
    "        end_0=np.ravel_multi_index(tuple(end),tuple(self.range_list))\n",
    "        a=self.move_index(tuple(np.array(end)-np.array(start)))\n",
    "        best_dir=max(Q[end_0])\n",
    "        i=0\n",
    "        j=0\n",
    "        reward = P[tuple([end[i] for i in range(len(end))])]-P[tuple([start[j] for j in range(len(start))])]\n",
    "        Q[start_0][a]=(1-t)*Q[start_0][a]+t*(reward+g*best_dir)\n",
    "        return Q\n",
    "    \n",
    "    def move_index(self,v):\n",
    "        \"\"\"\n",
    "        v - movement vector from self.moves,\n",
    "        returns the index of this vector in self.moves; \n",
    "        this index is column of the q-table corresponding to vector v \n",
    "        \"\"\"\n",
    "        for i in range(len(self.moves)):\n",
    "            if self.moves[i] == v:\n",
    "                return i\n",
    "    \n",
    "    def next_point(self,e,point,Q):\n",
    "        \"\"\"\n",
    "        e - epsilon (small positive real number) that determines whether we explore \n",
    "        or exploit \n",
    "        point - tuple that represents a point in the grid \n",
    "        Q - q-table \n",
    "        \"\"\"\n",
    "        s=uniform(0,1)\n",
    "        if s<e: \n",
    "            return random.choice(self.adj(point)) \n",
    "        if s>=e: \n",
    "            big = max([Q[np.ravel_multi_index(tuple(point),tuple(self.range_list))][i] for i in range(len(self.moves))])\n",
    "            where = [i for i in range(len(self.moves)) if Q[np.ravel_multi_index(tuple(point),tuple(self.range_list))][i]==big] \n",
    "            there = [tuple(self.limit_moves(np.array(self.moves[i])+np.array(point))) for i in where]\n",
    "        return random.choice(there) \n",
    "        \n",
    "    def qprocess(self,start,Q,P,g,t,e,N):\n",
    "        \"\"\"\n",
    "        Method implementing a single run of the epsilon-greedy Q-Learning algorithm;\n",
    "        e - epsilon (small positive real number between zero and one) that determines whether we explore \n",
    "        or exploit \n",
    "        start - tuple that represents the starting point of the algorithm in the grid\n",
    "        P - function that maps the grid to real numbers in the form of list of these numbers \n",
    "        g - discount rate \n",
    "        t - learning rate \n",
    "        Q - q-table\n",
    "        N - maximum number of steps\n",
    "        returns the updated q-table\n",
    "        \"\"\"\n",
    "        point=start \n",
    "        for i in range(N):\n",
    "            nextpoint=self.next_point(e,point,Q)\n",
    "            while point==nextpoint:\n",
    "                nextpoint=self.next_point(e,point,Q)\n",
    "                \n",
    "\n",
    "            Q=self.Q_update(Q,P,g,point,nextpoint,t)\n",
    "            point=nextpoint\n",
    "        return Q\n",
    "    \n",
    "    def qlearning(self,start,Q,P,g,t,e,N,num_epochs):\n",
    "        \"\"\"\n",
    "        Method implementing the entire epsilon-greedy Q-Learning algorithm;\n",
    "        e - epsilon (small positive real number between zero and one) that determines whether we explore \n",
    "        or exploit \n",
    "        start - tuple that represents the starting point of the algorithm in the grid\n",
    "        P - function that maps the grid to real numbers in the form of list of these numbers \n",
    "        g - discount rate \n",
    "        t - learning rate \n",
    "        Q - q-table\n",
    "        N - maximum number of steps\n",
    "        returns the updated q-table\n",
    "        \"\"\"\n",
    "        point=start \n",
    "        for epoch in range(num_epochs):\n",
    "            Q = self.qprocess(start,Q,P,g,t,e,N)\n",
    "            \n",
    "        return Q\n",
    "        \n",
    "                             "
   ]
  },
  {
   "cell_type": "markdown",
   "metadata": {},
   "source": [
    "# Test functions"
   ]
  },
  {
   "cell_type": "markdown",
   "metadata": {},
   "source": [
    "# Notation: \n",
    "Q - is the q-table;\n",
    "P - function defined on the grid, mapping it to real numbers;\n",
    "e - epsilon, real number between zero and one that determines whether we explore or exploit; \n",
    "start - tuple that represents the starting point of the algorithm in the grid;\n",
    "P - function that maps the grid to real numbers in the form of list of these numbers; \n",
    "g - discount rate; \n",
    "t - learning rate; \n",
    "N - maximum number of steps."
   ]
  },
  {
   "cell_type": "markdown",
   "metadata": {},
   "source": [
    "# User Instructions \n",
    "\n",
    "First, we need to create an instance of the class grid. Initially it requires only the dimension parameters of the grid. \n",
    "\n",
    "## grid_length\n",
    "is the number of points on the side of the grid.\n",
    "## dim \n",
    "is the dimension of the Euclidean space containing grid.\n",
    "\n",
    "Therefore, if we denote as $n$ - the number of points on the grid, $\\lambda$ - grid length, $\\mu$ - dimension of the space, we will have $n=\\lambda^{\\mu} $.\n",
    "\n"
   ]
  },
  {
   "cell_type": "markdown",
   "metadata": {},
   "source": [
    "# The following cell shows how to initialize a grid class instance."
   ]
  },
  {
   "cell_type": "code",
   "execution_count": 5,
   "metadata": {},
   "outputs": [],
   "source": [
    "grid_length=5\n",
    "dim=2\n",
    "grid1=grid([grid_length,grid_length])"
   ]
  },
  {
   "cell_type": "code",
   "execution_count": 6,
   "metadata": {},
   "outputs": [
    {
     "data": {
      "text/plain": [
       "[1, 4]"
      ]
     },
     "execution_count": 6,
     "metadata": {},
     "output_type": "execute_result"
    }
   ],
   "source": [
    "grid1.limit_moves([1,9])"
   ]
  },
  {
   "cell_type": "code",
   "execution_count": 7,
   "metadata": {},
   "outputs": [
    {
     "data": {
      "text/plain": [
       "[(2, 1), (1, 2), (0, 1), (1, 0)]"
      ]
     },
     "execution_count": 7,
     "metadata": {},
     "output_type": "execute_result"
    }
   ],
   "source": [
    "grid1.adj([1,1])"
   ]
  },
  {
   "cell_type": "markdown",
   "metadata": {},
   "source": [
    "# Methods.\n",
    "Immediately after we created a grid object we can use it's methods. Let's start with the methods that don't require any additional parameter.\n",
    "## grid.coordinates() \n",
    "returns the list of all points that belong to the grid.\n",
    "## grid.movement()\n",
    "returns all the movement vectors."
   ]
  },
  {
   "cell_type": "code",
   "execution_count": 8,
   "metadata": {},
   "outputs": [
    {
     "data": {
      "text/plain": [
       "[(0, 0),\n",
       " (0, 1),\n",
       " (0, 2),\n",
       " (0, 3),\n",
       " (0, 4),\n",
       " (1, 0),\n",
       " (1, 1),\n",
       " (1, 2),\n",
       " (1, 3),\n",
       " (1, 4),\n",
       " (2, 0),\n",
       " (2, 1),\n",
       " (2, 2),\n",
       " (2, 3),\n",
       " (2, 4),\n",
       " (3, 0),\n",
       " (3, 1),\n",
       " (3, 2),\n",
       " (3, 3),\n",
       " (3, 4),\n",
       " (4, 0),\n",
       " (4, 1),\n",
       " (4, 2),\n",
       " (4, 3),\n",
       " (4, 4)]"
      ]
     },
     "execution_count": 8,
     "metadata": {},
     "output_type": "execute_result"
    }
   ],
   "source": [
    "grid1.coordinates()"
   ]
  },
  {
   "cell_type": "code",
   "execution_count": 9,
   "metadata": {},
   "outputs": [
    {
     "data": {
      "text/plain": [
       "[(1, 0), (0, 1), (-1, 0), (0, -1)]"
      ]
     },
     "execution_count": 9,
     "metadata": {},
     "output_type": "execute_result"
    }
   ],
   "source": [
    "grid1.movement()"
   ]
  },
  {
   "cell_type": "code",
   "execution_count": null,
   "metadata": {},
   "outputs": [],
   "source": []
  },
  {
   "cell_type": "markdown",
   "metadata": {},
   "source": [
    "For a given point on the grid\n",
    "## grid.adjacent(point)\n",
    "are very similar, they both return the list of all points on the grid adjacent to it. I.e. all the points that obtained by making a single move: adding move vector to the point. \n",
    "\n",
    "Examples below will demonstrate the use of it."
   ]
  },
  {
   "cell_type": "code",
   "execution_count": 10,
   "metadata": {},
   "outputs": [],
   "source": [
    "point1=tuple([1,1]) #point in the interior of the grid"
   ]
  },
  {
   "cell_type": "code",
   "execution_count": 11,
   "metadata": {},
   "outputs": [
    {
     "data": {
      "text/plain": [
       "[(2, 1), (1, 2), (0, 1), (1, 0)]"
      ]
     },
     "execution_count": 11,
     "metadata": {},
     "output_type": "execute_result"
    }
   ],
   "source": [
    "grid1.adjacent(point1)"
   ]
  },
  {
   "cell_type": "code",
   "execution_count": 12,
   "metadata": {},
   "outputs": [],
   "source": [
    "point2=tuple([0,4]) # boundary point"
   ]
  },
  {
   "cell_type": "code",
   "execution_count": 13,
   "metadata": {},
   "outputs": [
    {
     "data": {
      "text/plain": [
       "[(1, 4), (0, 3)]"
      ]
     },
     "execution_count": 13,
     "metadata": {},
     "output_type": "execute_result"
    }
   ],
   "source": [
    "grid1.adjacent(point2)"
   ]
  },
  {
   "cell_type": "markdown",
   "metadata": {},
   "source": [
    "# Q-Learning"
   ]
  },
  {
   "cell_type": "markdown",
   "metadata": {},
   "source": [
    "## In class grid we implemented an $\\varepsilon$-greedy algortithm for building q-table.\n",
    "Below are the meta-parameters of the algorithm.\n",
    "\n",
    "t - Step length used to update the estimation of q-table values;\n",
    "\n",
    "e - $\\varepsilon$ the probability of algorithm to take a random move during the learning process;\n",
    "\n",
    "g - Discounting Factor for Future Rewards,\n",
    "\n",
    "N - number of steps during a single epoch;\n",
    "\n",
    "nEpochs - number of epochs,\n",
    "\n",
    "P - function that maps the grid to real numbers.\n",
    "\n",
    "The algorithm starts with q-table consisting exclusively of zeroes."
   ]
  },
  {
   "cell_type": "markdown",
   "metadata": {},
   "source": [
    "# Example 4\n",
    "\n",
    "P as a matrix of the following form.\n",
    "\n",
    "\\begin{equation}\n",
    "P=\\left[\n",
    "\\begin{matrix}\n",
    "1 & 1 & 1 & 1 & 1 & 1 & 1 & 1 & 1 & 1\\\\\n",
    "1 & 1 & 1 & 1 & 1 & 1 & 1 & 1 & 1 & 1\\\\\n",
    "1 & 1 & 1 & 1 & 1 & 1 & 1 & 1 & 1 & 1\\\\\n",
    "1 & 1 & 1 & 1 & 1 & 1 & 1 & 1 & 1 & 1\\\\\n",
    "1 & 1 & 1 & 1 & 1 & 1 & 1 & 1 & 1 & 1\\\\\n",
    "1 & 1 & 1 & 1 & 10 & 1 & 1 & 1& 1 & 1\\\\\n",
    "1 & 1 & 1 & 1 & 1 & 1 & 1 & 1 & 1 & 1\\\\\n",
    "1 & 1 & 5 & 1 & 1 & 1 & 1 & 1 & 1 & 1\\\\\n",
    "1 & 1 & 1 & 1 & 1 & 1 & 1 & 1 & 1 & 1\\\\\n",
    "1 & 1 & 1 & 1 & 1 & 1 & 1 & 1 & 1 & 1\n",
    "\\end{matrix}\n",
    "\\right]\n",
    "\\end{equation}"
   ]
  },
  {
   "cell_type": "markdown",
   "metadata": {},
   "source": [
    "# Two-dimension grid 5 x 5 with two exceptional values"
   ]
  },
  {
   "cell_type": "code",
   "execution_count": 14,
   "metadata": {},
   "outputs": [],
   "source": [
    "#Initialization of parameters and objects.\n",
    "dim=2\n",
    "grid_length=5\n",
    "Q=[[0 for i in range(2*dim)] for i in range(grid_length**dim)]\n",
    "P=np.array([1 for i in range(grid_length**2)]).reshape(grid_length,grid_length)\n",
    "P[2,2]=2\n",
    "P[4,4]=10\n",
    "start=(0,0)\n",
    "end=(1,0)\n",
    "grid4=grid([grid_length,grid_length])"
   ]
  },
  {
   "cell_type": "code",
   "execution_count": 15,
   "metadata": {},
   "outputs": [
    {
     "data": {
      "text/plain": [
       "[[0, 0, 0, 0],\n",
       " [0, 0, 0, 0],\n",
       " [0, 0, 0, 0],\n",
       " [0, 0, 0, 0],\n",
       " [0, 0, 0, 0],\n",
       " [0, 0, 0, 0],\n",
       " [0, 0, 0, 0],\n",
       " [0, 0, 0, 0],\n",
       " [0, 0, 0, 0],\n",
       " [0, 0, 0, 0],\n",
       " [0, 0, 0, 0],\n",
       " [0, 0, 0, 0],\n",
       " [0, 0, 0, 0],\n",
       " [0, 0, 0, 0],\n",
       " [0, 0, 0, 0],\n",
       " [0, 0, 0, 0],\n",
       " [0, 0, 0, 0],\n",
       " [0, 0, 0, 0],\n",
       " [0, 0, 0, 0],\n",
       " [0, 0, 0, 0],\n",
       " [0, 0, 0, 0],\n",
       " [0, 0, 0, 0],\n",
       " [0, 0, 0, 0],\n",
       " [0, 0, 0, 0],\n",
       " [0, 0, 0, 0]]"
      ]
     },
     "execution_count": 15,
     "metadata": {},
     "output_type": "execute_result"
    }
   ],
   "source": [
    "grid4.Q_update(Q,P,1,start,end,1)"
   ]
  },
  {
   "cell_type": "code",
   "execution_count": 16,
   "metadata": {},
   "outputs": [],
   "source": [
    "#Learning process\n",
    "g=.2\n",
    "t=0.8\n",
    "e=0.2\n",
    "N=2000\n",
    "nEpochs=5\n",
    "QTable4=grid4.qlearning(start,Q,P,g,t,e,N,nEpochs)"
   ]
  },
  {
   "cell_type": "code",
   "execution_count": 17,
   "metadata": {},
   "outputs": [
    {
     "data": {
      "text/plain": [
       "((2, 2), [(0, 0), (1, 0), (2, 0), (2, 1), (2, 2)], 5)"
      ]
     },
     "execution_count": 17,
     "metadata": {},
     "output_type": "execute_result"
    }
   ],
   "source": [
    "#Diagnostics path\n",
    "\n",
    "start_point=(0,0)\n",
    "Qpath(grid4,start_point,QTable4,P,10)"
   ]
  },
  {
   "cell_type": "markdown",
   "metadata": {},
   "source": [
    "# QTopology function example"
   ]
  },
  {
   "cell_type": "code",
   "execution_count": 16,
   "metadata": {},
   "outputs": [
    {
     "data": {
      "text/plain": [
       "array([[ 2.,  2.,  2.,  2., 10.],\n",
       "       [ 2.,  2.,  2.,  2., 10.],\n",
       "       [ 2.,  2.,  2.,  2., 10.],\n",
       "       [ 1.,  2.,  2., 10., 10.],\n",
       "       [ 1., 10., 10., 10., 10.]])"
      ]
     },
     "execution_count": 16,
     "metadata": {},
     "output_type": "execute_result"
    }
   ],
   "source": [
    "QTableTopology(grid4,P,QTable4,grid_length,dim)"
   ]
  },
  {
   "cell_type": "markdown",
   "metadata": {},
   "source": [
    "# Two-dimensional grid 5 x 5 (increasing the reward for higher Q-values) with two exceptional values"
   ]
  },
  {
   "cell_type": "code",
   "execution_count": 17,
   "metadata": {},
   "outputs": [],
   "source": [
    "#Initialization of parameters and objects.\n",
    "dim=2\n",
    "grid_length=5\n",
    "Q=[[0 for i in range(2*dim)] for i in range(grid_length**dim)]\n",
    "P=np.array([1 for i in range(grid_length**2)]).reshape(grid_length,grid_length)\n",
    "P[2,2]=2\n",
    "P[4,4]=10\n",
    "start=(0,0)\n",
    "grid4=grid([grid_length,grid_length])"
   ]
  },
  {
   "cell_type": "code",
   "execution_count": 18,
   "metadata": {},
   "outputs": [],
   "source": [
    "#Learning process\n",
    "g=1\n",
    "t=0.8\n",
    "e=0.2\n",
    "N=2000\n",
    "nEpochs=5\n",
    "QTable4=grid4.qlearning(start,Q,P,g,t,e,N,nEpochs)"
   ]
  },
  {
   "cell_type": "code",
   "execution_count": 19,
   "metadata": {},
   "outputs": [
    {
     "data": {
      "text/plain": [
       "((4, 4),\n",
       " [(0, 0),\n",
       "  (0, 1),\n",
       "  (1, 1),\n",
       "  (1, 2),\n",
       "  (1, 3),\n",
       "  (2, 3),\n",
       "  (3, 3),\n",
       "  (4, 3),\n",
       "  (4, 4),\n",
       "  (4, 4)],\n",
       " 10)"
      ]
     },
     "execution_count": 19,
     "metadata": {},
     "output_type": "execute_result"
    }
   ],
   "source": [
    "#Diagnostics path\n",
    "\n",
    "start_point=(0,0)\n",
    "Qpath(grid4,start_point,QTable4,P,10)"
   ]
  },
  {
   "cell_type": "code",
   "execution_count": 20,
   "metadata": {},
   "outputs": [
    {
     "data": {
      "text/plain": [
       "[[0.0, 8.973382938975444, 0, 0],\n",
       " [8.999999941656323, 7.044220084341477, 0, 7.094115152760924],\n",
       " [8.64, 0.0, 0, 8.999969169755943],\n",
       " [7.2, 9.0, 0, 8.999099576864722],\n",
       " [9.0, 0, 0, 8.98559999997523],\n",
       " [0.0, 8.999999710419903, 0.0, 0],\n",
       " [0.7603200000000001, 8.999999999999998, 7.960479754329958, 8.294194942782127],\n",
       " [7.389056, 9.0, 8.68957789931224, 7.320995839996059],\n",
       " [9.0, 9.0, 9.0, 8.999999999999886],\n",
       " [8.99997696, 0, 8.99999759890806, 9.0],\n",
       " [6.954378659660794, 0.0, 8.999937717179163, 0],\n",
       " [0, 8.999995237662706, 7.199999938436067, 8.661399466553547],\n",
       " [7.999995493220352, 8.0, 7.999999993166709, 7.999967589800267],\n",
       " [9.0, 9.0, 9.0, 9.0],\n",
       " [9.0, 0, 9.0, 9.0],\n",
       " [0.0, 0.0, 8.991650467109103, 0],\n",
       " [8.927999999999999, 8.999999999988203, 8.62807510741722, 4.565825435160262],\n",
       " [9.0, 9.0, 8.999999999999527, 8.999999994731692],\n",
       " [9.0, 9.0, 9.0, 9.0],\n",
       " [9.0, 0, 9.0, 9.0],\n",
       " [0, 0, 8.845669736728052, 0],\n",
       " [0, 9.0, 8.9998792851456, 7.761902934064686],\n",
       " [0, 9.0, 9.0, 9.0],\n",
       " [0, 9.0, 9.0, 9.0],\n",
       " [0, 0, 0.0, 0.0]]"
      ]
     },
     "execution_count": 20,
     "metadata": {},
     "output_type": "execute_result"
    }
   ],
   "source": [
    "QTable4"
   ]
  },
  {
   "cell_type": "code",
   "execution_count": 21,
   "metadata": {},
   "outputs": [
    {
     "data": {
      "text/plain": [
       "array([[10., 10., 10., 10., 10.],\n",
       "       [10., 10., 10., 10., 10.],\n",
       "       [10., 10., 10., 10., 10.],\n",
       "       [10., 10., 10., 10., 10.],\n",
       "       [10., 10., 10., 10., 10.]])"
      ]
     },
     "execution_count": 21,
     "metadata": {},
     "output_type": "execute_result"
    }
   ],
   "source": [
    "QTableTopology(grid4,P,QTable4,grid_length,dim)"
   ]
  },
  {
   "cell_type": "markdown",
   "metadata": {},
   "source": [
    "# Three-dimensional grid with one exceptional value"
   ]
  },
  {
   "cell_type": "code",
   "execution_count": 21,
   "metadata": {},
   "outputs": [],
   "source": [
    "#Initialization of parameters and objects.\n",
    "dim=3\n",
    "grid_length=5\n",
    "Q=[[0 for i in range(2*dim)] for i in range(grid_length**dim)]\n",
    "P=np.array([1 for i in range(grid_length**3)]).reshape(grid_length,grid_length,grid_length)\n",
    "P[2,2,1]=10\n",
    "#P[4,4]=10\n",
    "start=(0,0,0)\n",
    "grid4=grid([grid_length,grid_length,grid_length])"
   ]
  },
  {
   "cell_type": "code",
   "execution_count": 22,
   "metadata": {},
   "outputs": [],
   "source": [
    "#Learning process\n",
    "g=.2\n",
    "t=0.8\n",
    "e=0.8\n",
    "N=10000\n",
    "nEpochs=15\n",
    "QTable4=grid4.qlearning(start,Q,P,g,t,e,N,nEpochs)"
   ]
  },
  {
   "cell_type": "code",
   "execution_count": 23,
   "metadata": {},
   "outputs": [
    {
     "data": {
      "text/plain": [
       "((2, 2, 1),\n",
       " [(0, 0, 0), (1, 0, 0), (2, 0, 0), (2, 1, 0), (2, 2, 0), (2, 2, 1)],\n",
       " 6)"
      ]
     },
     "execution_count": 23,
     "metadata": {},
     "output_type": "execute_result"
    }
   ],
   "source": [
    "#Diagnostics path\n",
    "\n",
    "start_point=(0,0,0)\n",
    "Qpath(grid4,start_point,QTable4,P,10)"
   ]
  },
  {
   "cell_type": "markdown",
   "metadata": {},
   "source": [
    "# Larger grid (10 x 10) with two large exceptional values "
   ]
  },
  {
   "cell_type": "code",
   "execution_count": 18,
   "metadata": {},
   "outputs": [],
   "source": [
    "#Initialization of parameters and objects.\n",
    "dim=2\n",
    "grid_length=10\n",
    "Q=[[0 for i in range(2*dim)] for i in range(grid_length**dim)]\n",
    "P=np.array([1 for i in range(grid_length**2)]).reshape(grid_length,grid_length)\n",
    "P[2,2]=2\n",
    "P[4,4]=10\n",
    "start=(0,0)\n",
    "grid4=grid([grid_length,grid_length])"
   ]
  },
  {
   "cell_type": "code",
   "execution_count": 19,
   "metadata": {},
   "outputs": [],
   "source": [
    "#Learning process\n",
    "g=.4\n",
    "t=0.8\n",
    "e=0.5\n",
    "N=20000\n",
    "nEpochs=10\n",
    "QTable4=grid4.qlearning(start,Q,P,g,t,e,N,nEpochs)"
   ]
  },
  {
   "cell_type": "code",
   "execution_count": 26,
   "metadata": {},
   "outputs": [
    {
     "data": {
      "text/plain": [
       "((2, 2), [(0, 0), (1, 0), (2, 0), (2, 1), (2, 2)], 5)"
      ]
     },
     "execution_count": 26,
     "metadata": {},
     "output_type": "execute_result"
    }
   ],
   "source": [
    "#Diagnostics path\n",
    "\n",
    "start_point=(0,0)\n",
    "Qpath(grid4,start_point,QTable4,P,10)"
   ]
  },
  {
   "cell_type": "markdown",
   "metadata": {},
   "source": [
    "# Larger two-dimensional grid (10 x 10) two exceptional values with one \"not very exceptional\""
   ]
  },
  {
   "cell_type": "code",
   "execution_count": 27,
   "metadata": {},
   "outputs": [],
   "source": [
    "#Initialization of parameters and objects.\n",
    "dim=2\n",
    "grid_length=10\n",
    "Q=[[0 for i in range(2*dim)] for i in range(grid_length**dim)]\n",
    "P=np.array([1 for i in range(grid_length**2)]).reshape(grid_length,grid_length)\n",
    "P[2,2]=1.1\n",
    "P[4,4]=10\n",
    "start=(0,0)\n",
    "grid4=grid([grid_length,grid_length])"
   ]
  },
  {
   "cell_type": "code",
   "execution_count": 28,
   "metadata": {},
   "outputs": [],
   "source": [
    "#Learning process\n",
    "g=.4\n",
    "t=0.8\n",
    "e=0.5\n",
    "N=20000\n",
    "nEpochs=10\n",
    "QTable4=grid4.qlearning(start,Q,P,g,t,e,N,nEpochs)"
   ]
  },
  {
   "cell_type": "code",
   "execution_count": null,
   "metadata": {},
   "outputs": [],
   "source": [
    "#Diagnostics path\n",
    "\n",
    "start_point=(0,0)\n",
    "Qpath(grid4,start_point,QTable4,P,10)"
   ]
  },
  {
   "cell_type": "markdown",
   "metadata": {},
   "source": [
    "# Two dimensions with noise, 5 x 5 with two exceptional values and relatively low reward "
   ]
  },
  {
   "cell_type": "code",
   "execution_count": null,
   "metadata": {},
   "outputs": [],
   "source": [
    "#Initialization of parameters and objects.\n",
    "dim=2\n",
    "grid_length=5\n",
    "Q=[[0 for i in range(2*dim)] for i in range(grid_length**dim)]\n",
    "U=np.array([1 for i in range(grid_length**2)]).reshape(grid_length,grid_length)\n",
    "noise = np.random.normal(0, .01, U.shape)\n",
    "P=U+noise\n",
    "P[2,2]=2\n",
    "P[4,4]=4\n",
    "start=(0,0)\n",
    "grid4=grid([grid_length,grid_length])"
   ]
  },
  {
   "cell_type": "code",
   "execution_count": null,
   "metadata": {},
   "outputs": [],
   "source": [
    "#Learning process\n",
    "g=.2\n",
    "t=0.8\n",
    "e=0.2\n",
    "N=2000\n",
    "nEpochs=5\n",
    "QTable4=grid4.qlearning(start,Q,P,g,t,e,N,nEpochs)"
   ]
  },
  {
   "cell_type": "code",
   "execution_count": null,
   "metadata": {
    "scrolled": true
   },
   "outputs": [],
   "source": [
    "#Diagnostics path\n",
    "\n",
    "start_point=(0,0)\n",
    "Qpath(grid4,start_point,QTable4,P,10)"
   ]
  },
  {
   "cell_type": "markdown",
   "metadata": {},
   "source": [
    "# Two dimensions with noise, 5 x 5 with two exceptional values and higher reward"
   ]
  },
  {
   "cell_type": "code",
   "execution_count": null,
   "metadata": {},
   "outputs": [],
   "source": [
    "#Initialization of parameters and objects.\n",
    "dim=2\n",
    "grid_length=5\n",
    "Q=[[0 for i in range(2*dim)] for i in range(grid_length**dim)]\n",
    "U=np.array([1 for i in range(grid_length**2)]).reshape(grid_length,grid_length)\n",
    "noise = np.random.normal(0, .01, U.shape)\n",
    "P=U+noise\n",
    "P[2,2]=2\n",
    "P[4,4]=3\n",
    "start=(0,0)\n",
    "grid4=grid([grid_length,grid_length])"
   ]
  },
  {
   "cell_type": "code",
   "execution_count": null,
   "metadata": {},
   "outputs": [],
   "source": [
    "#Learning process\n",
    "g=.8\n",
    "t=0.1\n",
    "e=0.8\n",
    "N=2000\n",
    "nEpochs=5\n",
    "QTable4=grid4.qlearning(start,Q,P,g,t,e,N,nEpochs)"
   ]
  },
  {
   "cell_type": "code",
   "execution_count": null,
   "metadata": {},
   "outputs": [],
   "source": [
    "#Diagnostics path\n",
    "\n",
    "start_point=(0,0)\n",
    "Qpath(grid4,start_point,QTable4,P,30)"
   ]
  },
  {
   "cell_type": "markdown",
   "metadata": {},
   "source": [
    "# Extreme Experiments"
   ]
  },
  {
   "cell_type": "code",
   "execution_count": 30,
   "metadata": {},
   "outputs": [],
   "source": [
    "#Initialization of parameters and objects.\n",
    "dim=2\n",
    "grid_length=10\n",
    "Q=[[0 for i in range(2*dim)] for i in range(grid_length**dim)]\n",
    "U=np.array([1 for i in range(grid_length**2)]).reshape(grid_length,grid_length)\n",
    "noise = np.random.normal(0, .05, U.shape)\n",
    "P=U+noise\n",
    "P[2,2]=2\n",
    "P[8,8]=10\n",
    "P[4,4]=6\n",
    "\n",
    "start=(0,0)\n",
    "grid4=grid([grid_length,grid_length])"
   ]
  },
  {
   "cell_type": "code",
   "execution_count": 31,
   "metadata": {},
   "outputs": [],
   "source": [
    "#Learning process\n",
    "g=0.8\n",
    "t=0.8\n",
    "e=0.8\n",
    "N=10000\n",
    "nEpochs=10\n",
    "QTable4=grid4.qlearning(start,Q,P,g,t,e,N,nEpochs)"
   ]
  },
  {
   "cell_type": "code",
   "execution_count": 32,
   "metadata": {},
   "outputs": [
    {
     "data": {
      "text/plain": [
       "((4, 4),\n",
       " [(0, 0), (1, 0), (2, 0), (2, 1), (2, 2), (3, 2), (4, 2), (4, 3), (4, 4)],\n",
       " 9)"
      ]
     },
     "execution_count": 32,
     "metadata": {},
     "output_type": "execute_result"
    }
   ],
   "source": [
    "#Diagnostics path\n",
    "\n",
    "start_point=(0,0)\n",
    "Qpath(grid4,start_point,QTable4,P,50)\n",
    "#QTableTopology(grid4,P,QTable4,grid_length,dim)"
   ]
  },
  {
   "cell_type": "markdown",
   "metadata": {},
   "source": []
  },
  {
   "cell_type": "code",
   "execution_count": null,
   "metadata": {},
   "outputs": [],
   "source": []
  }
 ],
 "metadata": {
  "kernelspec": {
   "display_name": "Python 3 (ipykernel)",
   "language": "python",
   "name": "python3"
  },
  "language_info": {
   "codemirror_mode": {
    "name": "ipython",
    "version": 3
   },
   "file_extension": ".py",
   "mimetype": "text/x-python",
   "name": "python",
   "nbconvert_exporter": "python",
   "pygments_lexer": "ipython3",
   "version": "3.8.5"
  }
 },
 "nbformat": 4,
 "nbformat_minor": 2
}
