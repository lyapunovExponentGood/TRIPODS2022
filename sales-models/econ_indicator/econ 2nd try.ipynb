{
 "cells": [
  {
   "cell_type": "code",
   "execution_count": null,
   "id": "01386899",
   "metadata": {},
   "outputs": [],
   "source": [
    "import pandas as pd\n",
    "df_sales = pd.read_excel('fredgraph.xls', skiprows=21)"
   ]
  },
  {
   "cell_type": "code",
   "execution_count": null,
   "id": "a7d9c877",
   "metadata": {},
   "outputs": [],
   "source": [
    "df_breakeven_inflation10 = pd.read_csv('breakeven_inflation10.csv',names=('date', 'break_inflate10'),header=0)\n",
    "df_consumer_price_index = pd.read_csv('consumer_price_index.csv',names=('date', 'cpi'),header=0)\n",
    "df_employ_rate = pd.read_csv('employ_rate.csv',names=('date', 'employ_rate'),header=0)\n",
    "df_industrial_production = pd.read_csv('industrial_production.csv',names=('date', 'indust_prod'),header=0)\n",
    "df_mortgage_rate30 = pd.read_csv('mortgage_rate30.csv',names=('date', 'mortgage_rate30'),header=0)"
   ]
  },
  {
   "cell_type": "code",
   "execution_count": null,
   "id": "320c2d5b",
   "metadata": {},
   "outputs": [],
   "source": [
    "df_sales['observation_date']=pd.to_datetime(df_sales['observation_date'])\n",
    "df_sales.rename({'observation_date': 'date'}, axis=1, inplace=True)\n",
    "\n",
    "df_breakeven_inflation10['date']=pd.to_datetime(df_breakeven_inflation10['date'])\n",
    "df_consumer_price_index['date']=pd.to_datetime(df_consumer_price_index['date'])\n",
    "df_employ_rate['date']=pd.to_datetime(df_employ_rate['date'])\n",
    "df_industrial_production['date']=pd.to_datetime(df_industrial_production['date'])\n",
    "df_mortgage_rate30['date']=pd.to_datetime(df_mortgage_rate30['date'])"
   ]
  },
  {
   "cell_type": "code",
   "execution_count": null,
   "id": "b5c5f9e6",
   "metadata": {},
   "outputs": [],
   "source": [
    "# df_sales.sort_values(by='date', inplace=True)\n",
    "# df_sales"
   ]
  },
  {
   "cell_type": "code",
   "execution_count": null,
   "id": "1c1a1da2",
   "metadata": {},
   "outputs": [],
   "source": [
    "from functools import reduce"
   ]
  },
  {
   "cell_type": "code",
   "execution_count": null,
   "id": "8118c130",
   "metadata": {},
   "outputs": [],
   "source": [
    "dfs = [df_breakeven_inflation10, df_consumer_price_index, df_employ_rate, df_industrial_production, df_mortgage_rate30]\n",
    "df = reduce(lambda  left,right: pd.merge(left,right,on=['date'], how='outer'), dfs)\n",
    "df.to_csv(\"temp.csv\")"
   ]
  },
  {
   "cell_type": "code",
   "execution_count": null,
   "id": "7b5c9c65",
   "metadata": {},
   "outputs": [],
   "source": [
    "# from functools import reduce\n",
    "# dfs = [df_sales, df_breakeven_inflation10, df_consumer_price_index, df_employ_rate, df_industrial_production, df_mortgage_rate30]\n",
    "# df = reduce(lambda  left,right: pd.merge(left,right,on=['date'], how='outer'), dfs)\n",
    "# df.to_csv(\"temp.csv\")"
   ]
  },
  {
   "cell_type": "code",
   "execution_count": null,
   "id": "8e63853b",
   "metadata": {},
   "outputs": [],
   "source": [
    "#df=pd.DataFrame().join(dfs, how=\"outer\")\n",
    "#df_final = reduce(lambda left,right: pd.merge(left,right,on='date'), dfs)\n",
    "#df = reduce(lambda  left, right: left.join(right, how='outer', on='date'), dfs)\n",
    "# df = reduce(lambda x,y: pd.merge(x,y, on='date', how='outer'), [df_sales, df_breakeven_inflation10, df_consumer_price_index, df_employ_rate, df_industrial_production, df_mortgage_rate30])\n",
    "# df1.join([df2, df3])"
   ]
  },
  {
   "cell_type": "code",
   "execution_count": null,
   "id": "f38774cc",
   "metadata": {},
   "outputs": [],
   "source": [
    "df_indicators = pd.read_csv('temp.csv',index_col=0)\n",
    "df_indicators = df_indicators.iloc[0:233,:]"
   ]
  },
  {
   "cell_type": "code",
   "execution_count": null,
   "id": "e24e218e",
   "metadata": {},
   "outputs": [],
   "source": [
    "df_indicators['date']=pd.to_datetime(df_indicators['date'])\n",
    "df_final=df_sales.merge(df_indicators, on='date', how='right')"
   ]
  },
  {
   "cell_type": "code",
   "execution_count": null,
   "id": "0d9cc45b",
   "metadata": {},
   "outputs": [],
   "source": [
    "#add year,month,dayofyear,dayOfMonth,dayOfWeek,week\n",
    "# date=df_final.index\n",
    "df_final['date']=pd.to_datetime(df_indicators['date'])\n",
    "df_final['year'] = df_final['date'].dt.year\n",
    "df_final['month'] = df_final['date'].dt.month\n",
    "#df_final['dayofyear'] = df_final['date'].dt.day_of_year\n",
    "#df_final['dayOfMonth'] = df_final['date'].dt.day\n",
    "#df_final['dayOfWeek'] = df_final['date'].dt.dayofweek\n",
    "#df_final['week'] = df_final['date'].dt.isocalendar().week"
   ]
  },
  {
   "cell_type": "code",
   "execution_count": null,
   "id": "4be67dd5",
   "metadata": {},
   "outputs": [],
   "source": [
    "df_final"
   ]
  },
  {
   "cell_type": "code",
   "execution_count": null,
   "id": "fe30c996",
   "metadata": {},
   "outputs": [],
   "source": [
    "df_final.set_index('date', inplace=True)\n",
    "df_final.to_csv(\"sales_indicators.csv\")"
   ]
  },
  {
   "cell_type": "code",
   "execution_count": null,
   "id": "972f2574",
   "metadata": {},
   "outputs": [],
   "source": [
    "df_all = pd.read_csv('sales_indicators.csv',index_col=0)\n",
    "df_cor_temp = df_all.corr()\n",
    "df_cor_temp.drop(df_cor_temp.iloc[:,:12], inplace=True, axis=1)"
   ]
  },
  {
   "cell_type": "code",
   "execution_count": null,
   "id": "3a5f7616",
   "metadata": {},
   "outputs": [],
   "source": [
    "df_cor_temp=df_cor_temp.iloc[:-5]"
   ]
  },
  {
   "cell_type": "code",
   "execution_count": null,
   "id": "2b2dd725",
   "metadata": {},
   "outputs": [],
   "source": [
    "df_cor_temp"
   ]
  },
  {
   "cell_type": "code",
   "execution_count": null,
   "id": "0f1a25c7",
   "metadata": {},
   "outputs": [],
   "source": [
    "import seaborn as sns; sns.set_theme()\n",
    "heat_map = sns.heatmap(df_cor_temp, center=0)\n",
    "heat_map.set_xticklabels(heat_map.get_xticklabels(), rotation=45)\n",
    "heat_map"
   ]
  },
  {
   "cell_type": "code",
   "execution_count": null,
   "id": "ebf38151",
   "metadata": {},
   "outputs": [],
   "source": [
    "#break departments"
   ]
  },
  {
   "cell_type": "code",
   "execution_count": 2,
   "id": "a6b2e7ac",
   "metadata": {},
   "outputs": [
    {
     "name": "stdout",
     "output_type": "stream",
     "text": [
      "\u001b[31mERROR: Could not find a version that satisfies the requirement nomkl (from versions: none)\u001b[0m\r\n",
      "\u001b[31mERROR: No matching distribution found for nomkl\u001b[0m\r\n"
     ]
    }
   ],
   "source": [
    "#!pip install tensorflow --upgrade\n",
    "#!pip install nomkl"
   ]
  },
  {
   "cell_type": "code",
   "execution_count": null,
   "id": "f7ceabdc",
   "metadata": {},
   "outputs": [],
   "source": [
    "import numpy as np\n",
    "from keras.models import Sequential\n",
    "from keras.layers import Dense\n",
    "from keras.layers import Dropout\n",
    "from keras.layers import Activation\n",
    "from sklearn.model_selection import train_test_split\n",
    "import matplotlib.pyplot as plt\n",
    "import os\n",
    "\n",
    "#neural network\n",
    "#Define model\n",
    "model = Sequential()\n",
    "\n",
    "model.add(Dense(3174,\n",
    "                activation='relu',\n",
    "                input_dim = X_num_columns))\n",
    "\n",
    "model.add(Dense(1587,\n",
    "                activation='relu'))\n",
    "model.add(Dropout(0.2))\n",
    "\n",
    "#model.add(Dense(30,\n",
    "#                activation='relu'))\n",
    "#model.add(Dropout(0.2))\n",
    "\n",
    "#model.add(Dense(7,\n",
    "#                activation='relu'))\n",
    "#model.add(Dropout(0.2))\n",
    "\n",
    "model.add(Dense(1,\n",
    "                activation='linear'))\n",
    "\n",
    "model.compile(optimizer='adam', loss='mean_squared_error')\n",
    "print(\"Model Created\")"
   ]
  },
  {
   "cell_type": "code",
   "execution_count": null,
   "id": "d248e57c",
   "metadata": {},
   "outputs": [],
   "source": [
    "###############testing RSAFS\n",
    "#Split targets and features\n",
    "Y = df.iloc[:,0] # series with date as the index column and the SALES column \n",
    "X = df.iloc[:,12:7] # series with date as the index column and the loan column removed \n",
    "\n",
    "\n",
    "\n",
    "#Split train and test\n",
    "X_train, X_test, y_train, y_test = train_test_split(X, Y, test_size = 0.2, shuffle=True)"
   ]
  },
  {
   "cell_type": "code",
   "execution_count": null,
   "id": "941672b0",
   "metadata": {},
   "outputs": [],
   "source": [
    "#Fit model to training data\n",
    "model.fit(X_train, y_train, epochs=512, batch_size=16)\n",
    "\n",
    "print(\"Training completed\")"
   ]
  }
 ],
 "metadata": {
  "kernelspec": {
   "display_name": "Python 3 (ipykernel)",
   "language": "python",
   "name": "python3"
  },
  "language_info": {
   "codemirror_mode": {
    "name": "ipython",
    "version": 3
   },
   "file_extension": ".py",
   "mimetype": "text/x-python",
   "name": "python",
   "nbconvert_exporter": "python",
   "pygments_lexer": "ipython3",
   "version": "3.9.7"
  }
 },
 "nbformat": 4,
 "nbformat_minor": 5
}
